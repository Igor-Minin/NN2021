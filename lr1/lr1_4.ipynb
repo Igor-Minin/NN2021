{
  "nbformat": 4,
  "nbformat_minor": 0,
  "metadata": {
    "colab": {
      "name": "lr1.4.ipynb",
      "provenance": [],
      "collapsed_sections": [],
      "authorship_tag": "ABX9TyPh0WPiDHgPVfmD/rhdO7ED",
      "include_colab_link": true
    },
    "kernelspec": {
      "name": "python3",
      "display_name": "Python 3"
    },
    "language_info": {
      "name": "python"
    },
    "accelerator": "GPU"
  },
  "cells": [
    {
      "cell_type": "markdown",
      "metadata": {
        "id": "view-in-github",
        "colab_type": "text"
      },
      "source": [
        "<a href=\"https://colab.research.google.com/github/Igor-Minin/NN2021/blob/master/lr1/lr1_4.ipynb\" target=\"_parent\"><img src=\"https://colab.research.google.com/assets/colab-badge.svg\" alt=\"Open In Colab\"/></a>"
      ]
    },
    {
      "cell_type": "code",
      "execution_count": null,
      "metadata": {
        "colab": {
          "base_uri": "https://localhost:8080/",
          "height": 279
        },
        "id": "K1HiQ1oxVXIT",
        "outputId": "3d93d644-2309-4007-a6df-d4f3ade2412c"
      },
      "outputs": [
        {
          "output_type": "display_data",
          "data": {
            "image/png": "[encoded data removed]",
            "text/plain": [
              "<Figure size 432x288 with 1 Axes>"
            ]
          },
          "metadata": {
            "needs_background": "light"
          }
        }
      ],
      "source": [
        "import numpy as np\n",
        "\n",
        "import matplotlib.pyplot as plt\n",
        "import csv\n",
        "\n",
        "\n",
        "def estimate_coef(x, y):\n",
        "    n = np.size(x)\n",
        "\n",
        "    meanX = np.mean(x)\n",
        "    meanY = np.mean(y)\n",
        "\n",
        "    xy = np.sum(y * x) - n * meanY * meanX\n",
        "    xx = np.sum(x * x) - n * meanX * meanX\n",
        "\n",
        "    k = xy / xx\n",
        "    b = meanY - k * meanX\n",
        "\n",
        "    return b, k\n",
        "\n",
        "\n",
        "x = np.array([0, 1, 2, 3, 4, 5, 6, 7, 8, 9])\n",
        "y = np.array([1, 3, 2, 5, 7, 8, 8, 9, 10, 12])\n",
        "\n",
        "b = estimate_coef(x, y)\n",
        "\n",
        "plt.scatter(x, y)\n",
        "\n",
        "y_pred = b[0] + b[1] * x\n",
        "\n",
        "mae = np.mean(abs(y - y_pred))\n",
        "mse = np.mean((y - y_pred) ** 2)\n",
        "\n",
        "plt.plot(x, y_pred, color=\"red\")\n",
        "\n",
        "plt.xlabel('x')\n",
        "plt.ylabel('y')\n",
        "\n",
        "plt.show()\n",
        "\n",
        "with open(\"file.csv\", \"w\") as file:\n",
        "    writer = csv.writer(file)\n",
        "    writer.writerow(x)\n",
        "    writer.writerow(y)\n",
        "    writer.writerow(np.round(y_pred, 2))\n",
        "    writer.writerow([mae])\n",
        "    writer.writerow([mse])\n"
      ]
    }
  ]
}