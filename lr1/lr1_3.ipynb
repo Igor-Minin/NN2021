{
 "nbformat": 4,
 "nbformat_minor": 0,
 "metadata": {
  "colab": {
   "name": "lr1.3.ipynb",
   "provenance": [],
   "collapsed_sections": [],
   "authorship_tag": "ABX9TyOAbN9CeIH07J4CPfdwpv4z",
   "include_colab_link": true
  },
  "kernelspec": {
   "name": "python3",
   "display_name": "Python 3"
  },
  "language_info": {
   "name": "python"
  },
  "accelerator": "GPU"
 },
 "cells": [
  {
   "cell_type": "markdown",
   "metadata": {
    "id": "view-in-github",
    "colab_type": "text"
   },
   "source": [
    "<a href=\"https://colab.research.google.com/github/Igor-Minin/NN2021/blob/main/lr1_3.ipynb\" target=\"_parent\"><img src=\"https://colab.research.google.com/assets/colab-badge.svg\" alt=\"Open In Colab\"/></a>"
   ]
  },
  {
   "cell_type": "code",
   "execution_count": null,
   "metadata": {
    "colab": {
     "base_uri": "https://localhost:8080/"
    },
    "id": "Fud-Fl9YU432",
    "outputId": "c88c011c-53ec-48ca-f819-6a0a4066bbfa"
   },
   "outputs": [
    {
     "output_type": "stream",
     "name": "stdout",
     "text": [
      "     one  two\n",
      "0   10.0   15\n",
      "1   11.0   16\n",
      "2   12.0   17\n",
      "3   13.0   18\n",
      "4   14.0   19\n",
      "5   15.0   20\n",
      "6   16.0   21\n",
      "7   17.0   22\n",
      "8   18.0   23\n",
      "9   19.0   24\n",
      "10   NaN   25\n",
      "11   NaN   26\n",
      "12   NaN   27\n",
      "13   NaN   28\n",
      "14   NaN   29\n"
     ]
    }
   ],
   "source": [
    "import numpy as np\n",
    "import pandas as pd\n",
    "\n",
    "d = {\n",
    "    \"one\": pd.Series(np.arange(10, 20)),\n",
    "    \"two\": pd.Series(np.arange(15, 30)),\n",
    "}\n",
    "\n",
    "df = pd.DataFrame(d)\n",
    "\n",
    "\n",
    "# print(df)\n",
    "# print(df.head(10))\n",
    "# print(df.describe())\n",
    "# print(df.loc[5])\n",
    "# print(df.iloc[4])\n",
    "# df[\"flag\"] = df[\"two\"] < 25\n",
    "# print(df[df[\"flag\"].values])\n",
    "# print(df.dropna())\n",
    "# print(df.sort_values(by='one', ascending=False))\n"
   ]
  }
 ]
}