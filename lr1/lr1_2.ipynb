{
  "nbformat": 4,
  "nbformat_minor": 0,
  "metadata": {
    "colab": {
      "name": "lr1.2.ipynb",
      "provenance": [],
      "toc_visible": true,
      "authorship_tag": "ABX9TyO0Xw7nAKSkRmsUT/COIHHa",
      "include_colab_link": true
    },
    "kernelspec": {
      "name": "python3",
      "display_name": "Python 3"
    },
    "language_info": {
      "name": "python"
    },
    "accelerator": "GPU"
  },
  "cells": [
    {
      "cell_type": "markdown",
      "metadata": {
        "id": "view-in-github",
        "colab_type": "text"
      },
      "source": [
        "<a href=\"https://colab.research.google.com/github/Igor-Minin/NN2021/blob/main/lr1_2.ipynb\" target=\"_parent\"><img src=\"https://colab.research.google.com/assets/colab-badge.svg\" alt=\"Open In Colab\"/></a>"
      ]
    },
    {
      "cell_type": "code",
      "execution_count": null,
      "metadata": {
        "colab": {
          "base_uri": "https://localhost:8080/"
        },
        "id": "4eaSwzHEUCtT",
        "outputId": "95592cbd-451e-49ba-c711-4683caf645d4"
      },
      "outputs": [
        {
          "output_type": "stream",
          "name": "stdout",
          "text": [
            "[ 0  5 10 15 20]\n",
            "[0.         0.25966972 1.99533074 2.81719322 1.39905629]\n",
            "[[  0   6  14  24  36]\n",
            " [  0  11  24  39  56]\n",
            " [  0  16  34  54  76]\n",
            " [  0  21  44  69  96]\n",
            " [  0  26  54  84 116]]\n"
          ]
        }
      ],
      "source": [
        "import numpy as np\n",
        "\n",
        "arr = np.arange(0, 5)\n",
        "\n",
        "scalarArr = arr * 5\n",
        "\n",
        "vectArr = arr * np.random.sample(5)\n",
        "\n",
        "matrixArr = arr * np.arange(5, 30).reshape(5, 5)\n",
        "\n",
        "print(scalarArr)\n",
        "print(vectArr)\n",
        "print(matrixArr)\n"
      ]
    }
  ]
}