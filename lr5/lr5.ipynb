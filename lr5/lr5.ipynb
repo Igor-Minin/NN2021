{
  "nbformat": 4,
  "nbformat_minor": 0,
  "metadata": {
    "colab": {
      "name": "lr5.ipynb",
      "provenance": [],
      "authorship_tag": "ABX9TyPQq2ySRUi7p6RMgGS18y5l",
      "include_colab_link": true
    },
    "kernelspec": {
      "name": "python3",
      "display_name": "Python 3"
    },
    "language_info": {
      "name": "python"
    },
    "accelerator": "TPU"
  },
  "cells": [
    {
      "cell_type": "markdown",
      "metadata": {
        "id": "view-in-github",
        "colab_type": "text"
      },
      "source": [
        "<a href=\"https://colab.research.google.com/github/Igor-Minin/NN2021/blob/master/lr5/lr5.ipynb\" target=\"_parent\"><img src=\"https://colab.research.google.com/assets/colab-badge.svg\" alt=\"Open In Colab\"/></a>"
      ]
    },
    {
      "cell_type": "code",
      "execution_count": null,
      "metadata": {
        "id": "aTAe2BwzBTyY"
      },
      "outputs": [],
      "source": [
        "!wget https://storage.googleapis.com/ztm_tf_course/food_vision/101_food_classes_10_percent.zip -O 101_food_classes_10_percent.zip\n",
        "\n"
      ]
    },
    {
      "cell_type": "code",
      "source": [
        "!unzip 101_food_classes_10_percent.zip"
      ],
      "metadata": {
        "id": "qr3BNpTiBt84"
      },
      "execution_count": null,
      "outputs": []
    },
    {
      "cell_type": "code",
      "source": [
        "classNames = [\"beignets\", \"falafel\", \"nachos\"]\n",
        "import tensorflow as tf\n",
        "from tensorflow.keras.preprocessing.image import ImageDataGenerator\n",
        "from tensorflow.keras import layers, models\n",
        "\n",
        "tf.random.set_seed(42)\n",
        "\n",
        "train_datagen = ImageDataGenerator(rescale=1./255)\n",
        "valid_datagen = ImageDataGenerator(rescale=1./255)\n",
        "\n",
        "train_dir = \"data/train/\"\n",
        "test_dir = \"data/test/\"\n",
        "\n",
        "train_data = train_datagen.flow_from_directory(train_dir,\n",
        "                                               batch_size=32,  \n",
        "                                               target_size=(224, 224), \n",
        "                                               class_mode=\"binary\", \n",
        "                                               seed=42)\n",
        "\n",
        "valid_data = valid_datagen.flow_from_directory(test_dir,\n",
        "                                               batch_size=32,\n",
        "                                               target_size=(224, 224),\n",
        "                                               class_mode=\"binary\",\n",
        "                                               seed=42)\n",
        "\n",
        "model = tf.keras.models.Sequential([\n",
        "tf.keras.layers.Conv2D(32, (3, 3), activation='relu', input_shape=(225, 225, 3)),\n",
        "tf.keras.layers.MaxPooling2D((2, 2)),\n",
        "tf.keras.layers.Conv2D(64, (3, 3), activation='relu'),\n",
        "tf.keras.layers.MaxPooling2D((2, 2)),\n",
        "tf.keras.layers.Conv2D(64, (3, 3), activation='relu'),\n",
        "tf.keras.layers.Flatten(),\n",
        "tf.keras.layers.Dense(64, activation='relu'),\n",
        "tf.keras.layers.Dense(10)\n",
        "])\n",
        "\n",
        "model.compile(optimizer='adam',\n",
        "              loss=tf.keras.losses.SparseCategoricalCrossentropy(from_logits=True),\n",
        "              metrics=['accuracy'])\n",
        "\n",
        "history = model.fit(train_data,\n",
        "                        epochs=15,\n",
        "                        steps_per_epoch=len(train_data),\n",
        "                        validation_data=valid_data,\n",
        "                        validation_steps=len(valid_data))\n"
      ],
      "metadata": {
        "colab": {
          "base_uri": "https://localhost:8080/"
        },
        "id": "IrDWoU_QFyg_",
        "outputId": "fe6cc543-1d98-4826-a22f-807deba43e41"
      },
      "execution_count": 24,
      "outputs": [
        {
          "output_type": "stream",
          "name": "stdout",
          "text": [
            "Found 225 images belonging to 3 classes.\n",
            "Found 750 images belonging to 3 classes.\n",
            "Epoch 1/15\n",
            "8/8 [==============================] - 40s 5s/step - loss: 2.2155 - accuracy: 0.2756 - val_loss: 1.2596 - val_accuracy: 0.4293\n",
            "Epoch 2/15\n",
            "8/8 [==============================] - 40s 5s/step - loss: 1.3699 - accuracy: 0.4000 - val_loss: 1.0360 - val_accuracy: 0.5107\n",
            "Epoch 3/15\n",
            "8/8 [==============================] - 37s 5s/step - loss: 1.1090 - accuracy: 0.4356 - val_loss: 0.9887 - val_accuracy: 0.5293\n",
            "Epoch 4/15\n",
            "8/8 [==============================] - 37s 5s/step - loss: 1.0652 - accuracy: 0.5111 - val_loss: 1.7185 - val_accuracy: 0.3387\n",
            "Epoch 5/15\n",
            "8/8 [==============================] - 36s 5s/step - loss: 1.0706 - accuracy: 0.5067 - val_loss: 1.0753 - val_accuracy: 0.4267\n",
            "Epoch 6/15\n",
            "8/8 [==============================] - 36s 5s/step - loss: 0.8933 - accuracy: 0.6000 - val_loss: 1.0814 - val_accuracy: 0.4973\n",
            "Epoch 7/15\n",
            "8/8 [==============================] - 36s 5s/step - loss: 0.8163 - accuracy: 0.6311 - val_loss: 0.9312 - val_accuracy: 0.5533\n",
            "Epoch 8/15\n",
            "8/8 [==============================] - 36s 5s/step - loss: 0.5731 - accuracy: 0.7956 - val_loss: 0.8439 - val_accuracy: 0.6080\n",
            "Epoch 9/15\n",
            "8/8 [==============================] - 36s 5s/step - loss: 0.4324 - accuracy: 0.8133 - val_loss: 1.0067 - val_accuracy: 0.5813\n",
            "Epoch 10/15\n",
            "8/8 [==============================] - 36s 5s/step - loss: 0.3486 - accuracy: 0.8889 - val_loss: 1.0551 - val_accuracy: 0.5640\n",
            "Epoch 11/15\n",
            "8/8 [==============================] - 36s 5s/step - loss: 0.2890 - accuracy: 0.9244 - val_loss: 2.2295 - val_accuracy: 0.4440\n",
            "Epoch 12/15\n",
            "8/8 [==============================] - 36s 5s/step - loss: 0.7559 - accuracy: 0.7600 - val_loss: 1.0454 - val_accuracy: 0.5507\n",
            "Epoch 13/15\n",
            "8/8 [==============================] - 36s 5s/step - loss: 0.5351 - accuracy: 0.8222 - val_loss: 1.1663 - val_accuracy: 0.5160\n",
            "Epoch 14/15\n",
            "8/8 [==============================] - 36s 5s/step - loss: 0.3551 - accuracy: 0.8533 - val_loss: 1.1655 - val_accuracy: 0.5507\n",
            "Epoch 15/15\n",
            "8/8 [==============================] - 36s 5s/step - loss: 0.1734 - accuracy: 0.9422 - val_loss: 1.6703 - val_accuracy: 0.5520\n"
          ]
        }
      ]
    }
  ]
}