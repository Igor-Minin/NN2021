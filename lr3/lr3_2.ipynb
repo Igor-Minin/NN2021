 from sklearn.datasets import make_classification
 from matplotlib import pyplot as plt
 from sklearn.linear_model import LogisticRegression
 from sklearn.preprocessing import StandardScaler
 from sklearn.pipeline import make_pipeline
 from sklearn import metrics
 import numpy as np
 from sklearn.model_selection import train_test_split
 X, Y = make_classification(n_samples=300, n_features=5, n_classes=2, n_redundant=0)
 fig, ax = plt.subplots(figsize=(9, 6))
 plt.scatter(X[:,0], X[:,1], c=Y)
 X_train, X_test, y_train, y_test = train_test_split(X, Y)
 pipeline = make_pipeline(StandardScaler(), LogisticRegression())
 pipeline.fit(X_train, y_train)
 y_pred = pipeline.predict(X_test)
 print('Precision:', metrics.precision_score(y_test, y_pred))
 print('Recall:', metrics.recall_score(y_test, y_pred))
 print('F:', np.sqrt(metrics.f1_score(y_test, y_pred)))