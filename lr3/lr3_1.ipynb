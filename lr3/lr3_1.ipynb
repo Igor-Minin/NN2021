{
  "nbformat": 4,
  "nbformat_minor": 0,
  "metadata": {
    "colab": {
      "name": "lr3_1.ipynb",
      "provenance": [],
      "authorship_tag": "ABX9TyNNZwRhPptFybxDnq9WYFzp",
      "include_colab_link": true
    },
    "kernelspec": {
      "name": "python3",
      "display_name": "Python 3"
    },
    "language_info": {
      "name": "python"
    },
    "accelerator": "TPU"
  },
  "cells": [
    {
      "cell_type": "markdown",
      "metadata": {
        "id": "view-in-github",
        "colab_type": "text"
      },
      "source": [
        "<a href=\"https://colab.research.google.com/github/Igor-Minin/NN2021/blob/master/lr3/lr3_1.ipynb\" target=\"_parent\"><img src=\"https://colab.research.google.com/assets/colab-badge.svg\" alt=\"Open In Colab\"/></a>"
      ]
    },
    {
      "cell_type": "code",
      "execution_count": 12,
      "metadata": {
        "colab": {
          "base_uri": "https://localhost:8080/",
          "height": 317
        },
        "id": "dt-VWVRu-Jaq",
        "outputId": "f5c378c8-63a4-4667-f5de-217c3a2e17d7"
      },
      "outputs": [
        {
          "output_type": "display_data",
          "data": {
            "text/plain": [
              "<Figure size 432x288 with 1 Axes>"
            ],
            "image/png": "[encoded data removed]"
          },
          "metadata": {
            "needs_background": "light"
          }
        },
        {
          "output_type": "stream",
          "name": "stdout",
          "text": [
            "Mean Absolute Error: 0.7976575410270337\n",
            "Mean Squared Error: 0.9992584599612064\n",
            "Root Mean Squared Error: 0.9996291612199028\n"
          ]
        }
      ],
      "source": [
        "from sklearn.datasets import make_regression\n",
        "from matplotlib import pyplot\n",
        "from sklearn.linear_model import LinearRegression\n",
        "from sklearn import metrics\n",
        "import numpy as np\n",
        "X, Y = make_regression(n_samples=2200000,n_features=1,noise=1)\n",
        "pyplot.scatter(X,Y)\n",
        "pyplot.show()\n",
        "regressor = LinearRegression()\n",
        "regressor.fit(X, Y)\n",
        "y_pred = regressor.predict(X)\n",
        "print('Mean Absolute Error:', metrics.mean_absolute_error(Y, y_pred))\n",
        "print('Mean Squared Error:', metrics.mean_squared_error(Y, y_pred))\n",
        "print('Root Mean Squared Error:', np.sqrt(metrics.mean_squared_error(Y, y_pred)))"
      ]
    }
  ]
}